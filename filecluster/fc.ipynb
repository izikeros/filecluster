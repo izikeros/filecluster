{
 "cells": [
  {
   "cell_type": "code",
   "execution_count": null,
   "metadata": {},
   "outputs": [],
   "source": [
    "import os\n",
    "import sys\n",
    "sys.path += [os.path.dirname(os.getcwd())]"
   ]
  },
  {
   "cell_type": "code",
   "execution_count": null,
   "metadata": {},
   "outputs": [],
   "source": [
    "from __future__ import unicode_literals, absolute_import, division, print_function"
   ]
  },
  {
   "cell_type": "code",
   "execution_count": null,
   "metadata": {},
   "outputs": [],
   "source": [
    "%reload_ext autoreload\n",
    "%autoreload 2\n",
    "from filecluster import file_cluster as fc\n",
    "from filecluster import utils\n",
    "\n",
    "import pandas as pd\n",
    "from datetime import timedelta"
   ]
  },
  {
   "cell_type": "code",
   "execution_count": null,
   "metadata": {},
   "outputs": [],
   "source": [
    "config = utils.get_default_config()\n",
    "df = utils.get_data_from_files(config)\n",
    "nFiles = len(df)\n",
    "print(\"%d files found\" % nFiles)"
   ]
  },
  {
   "cell_type": "code",
   "execution_count": null,
   "metadata": {},
   "outputs": [],
   "source": [
    "this_config = utils.get_default_config()\n",
    "image_importer = fc.ImageImporter(this_config)"
   ]
  },
  {
   "cell_type": "code",
   "execution_count": null,
   "metadata": {},
   "outputs": [],
   "source": [
    "# image_importer.run()\n",
    "print('calculating gaps')\n",
    "image_importer.calculate_gaps('m_date', 'm_date_delta')\n",
    "image_importer.calculate_gaps('exif_date', 'exif_date_delta')"
   ]
  },
  {
   "cell_type": "code",
   "execution_count": null,
   "metadata": {},
   "outputs": [],
   "source": [
    "print('clustering')\n",
    "image_importer.do_clustering(method='baseline')\n",
    "n_files = len(image_importer.df)\n",
    "print (\"%d files found\" % n_files)\n",
    "print('Done')"
   ]
  },
  {
   "cell_type": "code",
   "execution_count": null,
   "metadata": {},
   "outputs": [],
   "source": [
    "image_importer.df.head(20)"
   ]
  },
  {
   "cell_type": "code",
   "execution_count": null,
   "metadata": {},
   "outputs": [],
   "source": [
    "HTML(image_importer.df[['file_name','image','exif_date','m_date','cluster_id']].to_html(formatters={'image': image_formatter}, escape=False))"
   ]
  },
  {
   "cell_type": "code",
   "execution_count": null,
   "metadata": {},
   "outputs": [],
   "source": [
    "\n"
   ]
  },
  {
   "cell_type": "code",
   "execution_count": null,
   "metadata": {},
   "outputs": [],
   "source": [
    "dogs['image'] = dogs.file.map(lambda f: get_thumbnail(f))\n",
    "dogs.head()"
   ]
  },
  {
   "cell_type": "code",
   "execution_count": null,
   "metadata": {},
   "outputs": [],
   "source": []
  },
  {
   "cell_type": "code",
   "execution_count": null,
   "metadata": {},
   "outputs": [],
   "source": [
    "from IPython.core.display import display, HTML\n",
    "from PIL import Image\n",
    "import cStringIO\n",
    "import base64\n",
    "import pandas as pd\n",
    "\n",
    "img = Image.open(\"/home/izik/Pictures/Superman.png\")\n",
    "img_buffer = cStringIO.StringIO()\n",
    "img.save(img_buffer, format=\"PNG\")\n",
    "imgStr = base64.b64encode(img_buffer.getvalue())\n",
    "\n",
    "data = pd.DataFrame({\"A\":[1,2,3,4,5], \"B\":[10,20,30,40,50]})\n",
    "\n",
    "# superman global\n",
    "#data.loc[:,'img'] = '<img src=\"data:image/png;base64,{0:s}\" width=100>'\n",
    "#html_all = data.to_html(escape=False).format(imgStr)\n",
    "\n",
    "data.loc[:,'img'] = '<img src=\"data:image/png;base64,{0:s}\" width=100>'.format(imgStr)\n",
    "html_all = data.to_html(escape=False)\n",
    "\n",
    "#data.loc[:,'img'] = '<img src=\"data:image/png;base64,{}\">'.format(imgStr)\n",
    "#html_all = data.to_html(escape=False)\n",
    "\n",
    "#display(HTML(html_all))\n",
    "html_all"
   ]
  },
  {
   "cell_type": "code",
   "execution_count": null,
   "metadata": {},
   "outputs": [],
   "source": [
    "data"
   ]
  },
  {
   "cell_type": "code",
   "execution_count": null,
   "metadata": {},
   "outputs": [],
   "source": [
    "df.dtypes"
   ]
  },
  {
   "cell_type": "code",
   "execution_count": null,
   "metadata": {},
   "outputs": [],
   "source": [
    "td = timedelta(minutes=60)\n",
    "cluster_idx = 0\n",
    "\n",
    "for index, row in df.iterrows():\n",
    "    d_previous = df.loc[index]['delta_from_previous']\n",
    "    if d_previous > td:\n",
    "        cluster_idx += 1\n",
    "    df.loc[index,('cluster_id')] = cluster_idx\n",
    "df"
   ]
  },
  {
   "cell_type": "code",
   "execution_count": null,
   "metadata": {},
   "outputs": [],
   "source": [
    "df"
   ]
  },
  {
   "cell_type": "code",
   "execution_count": null,
   "metadata": {},
   "outputs": [],
   "source": []
  }
 ],
 "metadata": {
  "kernelspec": {
   "display_name": "Python 2",
   "language": "python",
   "name": "python2"
  },
  "language_info": {
   "codemirror_mode": {
    "name": "ipython",
    "version": 2
   },
   "file_extension": ".py",
   "mimetype": "text/x-python",
   "name": "python",
   "nbconvert_exporter": "python",
   "pygments_lexer": "ipython2",
   "version": "2.7.13"
  }
 },
 "nbformat": 4,
 "nbformat_minor": 2
}

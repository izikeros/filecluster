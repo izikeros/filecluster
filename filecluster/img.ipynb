{
 "cells": [
  {
   "cell_type": "code",
   "execution_count": null,
   "metadata": {
    "_cell_guid": "d49d8869-267a-4b21-a2ba-220be28808cb",
    "_uuid": "416a2373ed22eaf2a5b0ca8eb12e39ab17fd6d71"
   },
   "outputs": [],
   "source": [
    "# https://www.kaggle.com/stassl/displaying-inline-images-in-pandas-dataframe/code"
   ]
  },
  {
   "cell_type": "code",
   "execution_count": null,
   "metadata": {
    "_cell_guid": "d49d8869-267a-4b21-a2ba-220be28808cb",
    "_uuid": "416a2373ed22eaf2a5b0ca8eb12e39ab17fd6d71"
   },
   "outputs": [],
   "source": [
    "import base64\n",
    "import pandas as pd\n",
    "\n",
    "from PIL import Image\n",
    "from io import BytesIO\n",
    "from IPython.display import HTML"
   ]
  },
  {
   "cell_type": "code",
   "execution_count": null,
   "metadata": {
    "_cell_guid": "bd62849d-5cd2-456f-8e08-cfb56efe4512",
    "_uuid": "a4d52aaaaa649f60127531bd2e0eea044feca060"
   },
   "outputs": [],
   "source": [
    "pd.set_option('display.max_colwidth', -1)\n",
    "\n",
    "def get_thumbnail(path):\n",
    "    i = Image.open(path)\n",
    "    i.thumbnail((150, 150), Image.LANCZOS)\n",
    "    return i\n",
    "\n",
    "def image_base64(im):\n",
    "    if isinstance(im, str):\n",
    "        im = get_thumbnail(im)\n",
    "    with BytesIO() as buffer:\n",
    "        im.save(buffer, 'jpeg')\n",
    "        return base64.b64encode(buffer.getvalue()).decode()\n",
    "\n",
    "def image_formatter(im):\n",
    "    return f'<img src=\"data:image/jpeg;base64,{image_base64(im)}\">'"
   ]
  },
  {
   "cell_type": "code",
   "execution_count": null,
   "metadata": {
    "_cell_guid": "022a67ce-e11e-4f38-880a-f3c0ccc08106",
    "_uuid": "6ddfb7c6da24fd3a39468d9975a46cf9cdd5ee30"
   },
   "outputs": [],
   "source": [
    "dogs = pd.read_csv('../input/labels.csv')\n",
    "dogs = dogs.sample(20)\n",
    "dogs['file'] = dogs.id.map(lambda id: f'../input/train/{id}.jpg')\n",
    "dogs['image'] = dogs.file.map(lambda f: get_thumbnail(f))\n",
    "dogs.head()"
   ]
  },
  {
   "cell_type": "code",
   "execution_count": null,
   "metadata": {
    "_cell_guid": "c9f2e24a-92f8-4264-a9ba-41ae8ec60a97",
    "_uuid": "aff9803b0b3ba174c6936fdac522c0ffcf4be5fe"
   },
   "outputs": [],
   "source": [
    "# displaying PIL.Image objects embedded in dataframe\n",
    "HTML(dogs[['breed', 'image']].to_html(formatters={'image': image_formatter}, escape=False))"
   ]
  },
  {
   "cell_type": "code",
   "execution_count": null,
   "metadata": {
    "_cell_guid": "6b00c10a-09a3-4c98-9fce-a3bd22a63ae9",
    "_uuid": "079400d325a03e5fe0b32b33ce9b6b0ae6cf22a2"
   },
   "outputs": [],
   "source": [
    "# display images specified by path\n",
    "HTML(dogs[['breed', 'file']].to_html(formatters={'file': image_formatter}, escape=False))"
   ]
  },
  {
   "cell_type": "code",
   "execution_count": null,
   "metadata": {
    "_cell_guid": "2c1280db-0abb-4523-95b9-99ede71a3d54",
    "_uuid": "956b553725748b8b6b3b9eda60c3503b9e639ed3"
   },
   "outputs": [],
   "source": []
  }
 ],
 "metadata": {
  "kernelspec": {
   "display_name": "Python 3",
   "language": "python",
   "name": "python3"
  },
  "language_info": {
   "codemirror_mode": {
    "name": "ipython",
    "version": 3
   },
   "file_extension": ".py",
   "mimetype": "text/x-python",
   "name": "python",
   "nbconvert_exporter": "python",
   "pygments_lexer": "ipython3",
   "version": "3.5.3"
  },
  "pycharm": {
   "stem_cell": {
    "cell_type": "raw",
    "metadata": {
     "collapsed": false
    },
    "source": []
   }
  }
 },
 "nbformat": 4,
 "nbformat_minor": 2
}
